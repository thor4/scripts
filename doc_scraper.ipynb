{
  "nbformat": 4,
  "nbformat_minor": 0,
  "metadata": {
    "colab": {
      "provenance": [],
      "authorship_tag": "ABX9TyN/IIMytR6o3CP+faVJAaTv",
      "include_colab_link": true
    },
    "kernelspec": {
      "name": "python3",
      "display_name": "Python 3"
    },
    "language_info": {
      "name": "python"
    }
  },
  "cells": [
    {
      "cell_type": "markdown",
      "metadata": {
        "id": "view-in-github",
        "colab_type": "text"
      },
      "source": [
        "<a href=\"https://colab.research.google.com/github/thor4/scripts/blob/master/doc_scraper.ipynb\" target=\"_parent\"><img src=\"https://colab.research.google.com/assets/colab-badge.svg\" alt=\"Open In Colab\"/></a>"
      ]
    },
    {
      "cell_type": "markdown",
      "source": [
        "# Web Documentation Scraper\n",
        "---"
      ],
      "metadata": {
        "id": "XmeJ2I-kworg"
      }
    },
    {
      "cell_type": "markdown",
      "source": [
        "Install required libraries"
      ],
      "metadata": {
        "id": "PCm-BzoVwmsQ"
      }
    },
    {
      "cell_type": "code",
      "execution_count": null,
      "metadata": {
        "colab": {
          "base_uri": "https://localhost:8080/"
        },
        "id": "Ho9DpKS8wkzV",
        "outputId": "299a21a1-e0f6-4d3e-f892-93269f841a60"
      },
      "outputs": [
        {
          "output_type": "stream",
          "name": "stdout",
          "text": [
            "Looking in indexes: https://pypi.org/simple, https://us-python.pkg.dev/colab-wheels/public/simple/\n",
            "Requirement already satisfied: beautifulsoup4 in /usr/local/lib/python3.9/dist-packages (4.9.3)\n",
            "Requirement already satisfied: requests in /usr/local/lib/python3.9/dist-packages (2.25.1)\n",
            "Requirement already satisfied: soupsieve>1.2 in /usr/local/lib/python3.9/dist-packages (from beautifulsoup4) (2.4)\n",
            "Requirement already satisfied: urllib3<1.27,>=1.21.1 in /usr/local/lib/python3.9/dist-packages (from requests) (1.26.15)\n",
            "Requirement already satisfied: certifi>=2017.4.17 in /usr/local/lib/python3.9/dist-packages (from requests) (2022.12.7)\n",
            "Requirement already satisfied: chardet<5,>=3.0.2 in /usr/local/lib/python3.9/dist-packages (from requests) (4.0.0)\n",
            "Requirement already satisfied: idna<3,>=2.5 in /usr/local/lib/python3.9/dist-packages (from requests) (2.10)\n"
          ]
        }
      ],
      "source": [
        "!pip install beautifulsoup4 requests"
      ]
    },
    {
      "cell_type": "markdown",
      "source": [
        "Load libraries and mount Google Drive"
      ],
      "metadata": {
        "id": "Jcftkb8RxV8I"
      }
    },
    {
      "cell_type": "code",
      "source": [
        "import requests\n",
        "import re\n",
        "from bs4 import BeautifulSoup\n",
        "from urllib.parse import urljoin"
      ],
      "metadata": {
        "id": "92ITdmiB5HMt"
      },
      "execution_count": null,
      "outputs": []
    },
    {
      "cell_type": "code",
      "source": [
        "from google.colab import drive\n",
        "\n",
        "drive.mount('/content/drive')"
      ],
      "metadata": {
        "colab": {
          "base_uri": "https://localhost:8080/"
        },
        "id": "6I_YFNn2xVSc",
        "outputId": "1687efcb-b0cf-4630-e095-e878439c225f"
      },
      "execution_count": null,
      "outputs": [
        {
          "output_type": "stream",
          "name": "stdout",
          "text": [
            "Mounted at /content/drive\n"
          ]
        }
      ]
    },
    {
      "cell_type": "markdown",
      "source": [
        "Create scraping functions"
      ],
      "metadata": {
        "id": "L-DgLR9v8FIt"
      }
    },
    {
      "cell_type": "code",
      "source": [
        "def get_soup(url):\n",
        "    response = requests.get(url)\n",
        "    soup = BeautifulSoup(response.text, \"html.parser\")\n",
        "    return soup\n",
        "\n",
        "def get_links(soup):\n",
        "    links = soup.find(\"div\", {\"class\": \"toctree-wrapper\"}).find_all(\"a\", {\"class\": \"reference internal\"})\n",
        "    base_url = \"https://scikit-learn.org/stable/\"\n",
        "    link_list = [urljoin(base_url, link['href']) for link in links]\n",
        "    return link_list\n",
        "\n",
        "def scrape_page(url):\n",
        "    soup = get_soup(url)\n",
        "    content = soup.find(\"div\", {\"class\": \"body\"})\n",
        "\n",
        "    if content is None:\n",
        "        return \"\"\n",
        "\n",
        "    # Remove unnecessary elements\n",
        "    for script in content.find_all([\"script\", \"style\"]):\n",
        "        script.extract()\n",
        "\n",
        "    # Convert headers to markdown\n",
        "    for header in content.find_all(re.compile('^h[1-6]$')):\n",
        "        header_markdown = '#' * int(header.name[1])\n",
        "        header.string = f\"{header_markdown} {header.text}\"\n",
        "\n",
        "    # Convert links to markdown\n",
        "    for link in content.find_all('a'):\n",
        "        if link.get('href') and not link.get('href').startswith('#'):\n",
        "            link.string = f\"[{link.text}]({link['href']})\"\n",
        "            \n",
        "    # Convert MathJax to inline LaTeX\n",
        "    for mathjax in content.find_all('span', {'class': 'MathJax_Preview'}):\n",
        "        mathjax.string = f\"$$ {mathjax.text.strip()} $$\"\n",
        "\n",
        "    # Convert code blocks to markdown\n",
        "    for code in content.find_all(\"code\"):\n",
        "        code.string = f\"`{code.text}`\"\n",
        "\n",
        "    # Convert preformatted code blocks to markdown\n",
        "    for pre in content.find_all(\"pre\"):\n",
        "        pre.string = f\"```\\n{pre.text}\\n```\"\n",
        "\n",
        "    return content.get_text()\n",
        "\n",
        "def main():\n",
        "    base_url = \"https://scikit-learn.org/stable/user_guide.html\"\n",
        "    soup = get_soup(base_url)\n",
        "    links = get_links(soup)\n",
        "\n",
        "    output_file = \"/content/drive/MyDrive/scikit_learn_docs.md\"  # Change this path as needed\n",
        "    with open(output_file, \"w\", encoding=\"utf-8\") as f:\n",
        "        for i, link in enumerate(links):\n",
        "            markdown_content = scrape_page(link)\n",
        "            f.write(markdown_content)\n",
        "            f.write(\"\\n\\n\")\n",
        "    print(\"Scraping completed\")"
      ],
      "metadata": {
        "id": "7M_qR6vg5EOD"
      },
      "execution_count": null,
      "outputs": []
    },
    {
      "cell_type": "markdown",
      "source": [
        "Run script. It will output the markdown file to Google Drive."
      ],
      "metadata": {
        "id": "9jilthSW8I-R"
      }
    },
    {
      "cell_type": "code",
      "source": [
        "main()"
      ],
      "metadata": {
        "colab": {
          "base_uri": "https://localhost:8080/"
        },
        "id": "0gE85AEF5Wu-",
        "outputId": "ee05eb4b-73f7-430b-f4f5-ee47410f0b91"
      },
      "execution_count": null,
      "outputs": [
        {
          "output_type": "stream",
          "name": "stdout",
          "text": [
            "Scraping completed\n"
          ]
        }
      ]
    },
    {
      "cell_type": "markdown",
      "source": [],
      "metadata": {
        "id": "VePR9D2yA6K2"
      }
    }
  ]
}