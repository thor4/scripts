{
  "nbformat": 4,
  "nbformat_minor": 0,
  "metadata": {
    "colab": {
      "provenance": [],
      "authorship_tag": "ABX9TyMGSfm+A82yJEMUE3A0BT46",
      "include_colab_link": true
    },
    "kernelspec": {
      "name": "python3",
      "display_name": "Python 3"
    },
    "language_info": {
      "name": "python"
    }
  },
  "cells": [
    {
      "cell_type": "markdown",
      "metadata": {
        "id": "view-in-github",
        "colab_type": "text"
      },
      "source": [
        "<a href=\"https://colab.research.google.com/github/thor4/scripts/blob/master/json_to_csv.ipynb\" target=\"_parent\"><img src=\"https://colab.research.google.com/assets/colab-badge.svg\" alt=\"Open In Colab\"/></a>"
      ]
    },
    {
      "cell_type": "markdown",
      "source": [
        "# JSON to CSV Conversion Script"
      ],
      "metadata": {
        "id": "FUp5J4meLEJL"
      }
    },
    {
      "cell_type": "code",
      "source": [
        "import pandas as pd\n",
        "from google.colab import files"
      ],
      "metadata": {
        "id": "mJbaLpCBK_oz"
      },
      "execution_count": 8,
      "outputs": []
    },
    {
      "cell_type": "markdown",
      "source": [
        "Load the JSON"
      ],
      "metadata": {
        "id": "xf27uO8dLIit"
      }
    },
    {
      "cell_type": "code",
      "execution_count": 9,
      "metadata": {
        "id": "Li79at7oJ_-w"
      },
      "outputs": [],
      "source": [
        "json_data = {\n",
        "    \"decision_types\": [\n",
        "        {\n",
        "          \"name\": \"liquidity\",\n",
        "          \"description\": \"liquidity for this pool\",\n",
        "          \"type\": \"uniswap-v3-liquidity\",\n",
        "          \"params_schema\": [],\n",
        "          \"risk_type\": \"Economic\",\n",
        "          \"position_type_addresses\": [],\n",
        "          \"position_type_names\": [\"uni-v3-*-pool\"],\n",
        "          \"position_type_ids\": []\n",
        "        }, {\n",
        "          \"name\": \"feeGrowthOutside0X128\",\n",
        "          \"description\": \"feeGrowthOutside0X128 for this pool\",\n",
        "          \"type\": \"uniswap-v3-feeGrowthOutside0X128\",\n",
        "          \"params_schema\": [],\n",
        "          \"risk_type\": \"Economic\",\n",
        "          \"position_type_addresses\": [],\n",
        "          \"position_type_names\": [\"uni-v3-*-pool\"],\n",
        "          \"position_type_ids\": []\n",
        "        }, {\n",
        "          \"name\": \"feeGrowthOutside1X128\",\n",
        "          \"description\": \"feeGrowthOutside1X128 for this pool\",\n",
        "          \"type\": \"uniswap-v3-feeGrowthOutside1X128\",\n",
        "          \"params_schema\": [],\n",
        "          \"risk_type\": \"Economic\",\n",
        "          \"position_type_addresses\": [],\n",
        "          \"position_type_names\": [\"uni-v3-*-pool\"],\n",
        "          \"position_type_ids\": []\n",
        "        }, {\n",
        "          \"name\": \"Burn\",\n",
        "          \"description\": \"Burn for this pool\",\n",
        "          \"type\": \"uniswap-v3-Burn\",\n",
        "          \"params_schema\": [],\n",
        "          \"risk_type\": \"Economic\",\n",
        "          \"position_type_addresses\": [],\n",
        "          \"position_type_names\": [\"uni-v3-*-pool\"],\n",
        "          \"position_type_ids\": []\n",
        "        }, {\n",
        "          \"name\": \"Collect\",\n",
        "          \"description\": \"Collect for this pool\",\n",
        "          \"type\": \"uniswap-v3-Collect\",\n",
        "          \"params_schema\": [],\n",
        "          \"risk_type\": \"Economic\",\n",
        "          \"position_type_addresses\": [],\n",
        "          \"position_type_names\": [\"uni-v3-*-pool\"],\n",
        "          \"position_type_ids\": []\n",
        "        }, {\n",
        "          \"name\": \"CollectProtocol\",\n",
        "          \"description\": \"CollectProtocol for this pool\",\n",
        "          \"type\": \"uniswap-v3-CollectProtocol\",\n",
        "          \"params_schema\": [],\n",
        "          \"risk_type\": \"Economic\",\n",
        "          \"position_type_addresses\": [],\n",
        "          \"position_type_names\": [\"uni-v3-*-pool\"],\n",
        "          \"position_type_ids\": []\n",
        "        }, {\n",
        "          \"name\": \"Flash\",\n",
        "          \"description\": \"Flash for this pool\",\n",
        "          \"type\": \"uniswap-v3-Flash\",\n",
        "          \"params_schema\": [],\n",
        "          \"risk_type\": \"Economic\",\n",
        "          \"position_type_addresses\": [],\n",
        "          \"position_type_names\": [\"uni-v3-*-pool\"],\n",
        "          \"position_type_ids\": []\n",
        "        }, {\n",
        "          \"name\": \"IncreaseObservationCardinalityNext\",\n",
        "          \"description\": \"IncreaseObservationCardinalityNext for this pool\",\n",
        "          \"type\": \"uniswap-v3-IncreaseObservationCardinalityNext\",\n",
        "          \"params_schema\": [],\n",
        "          \"risk_type\": \"Economic\",\n",
        "          \"position_type_addresses\": [],\n",
        "          \"position_type_names\": [\"uni-v3-*-pool\"],\n",
        "          \"position_type_ids\": []\n",
        "        }, {\n",
        "          \"name\": \"Initialize\",\n",
        "          \"description\": \"Initialize for this pool\",\n",
        "          \"type\": \"uniswap-v3-Initialize\",\n",
        "          \"params_schema\": [],\n",
        "          \"risk_type\": \"Economic\",\n",
        "          \"position_type_addresses\": [],\n",
        "          \"position_type_names\": [\"uni-v3-*-pool\"],\n",
        "          \"position_type_ids\": []\n",
        "        }, {\n",
        "          \"name\": \"Mint\",\n",
        "          \"description\": \"Mint for this pool\",\n",
        "          \"type\": \"uniswap-v3-Mint\",\n",
        "          \"params_schema\": [],\n",
        "          \"risk_type\": \"Economic\",\n",
        "          \"position_type_addresses\": [],\n",
        "          \"position_type_names\": [\"uni-v3-*-pool\"],\n",
        "          \"position_type_ids\": []\n",
        "        }, {\n",
        "          \"name\": \"SetFeeProtocol\",\n",
        "          \"description\": \"SetFeeProtocol for this pool\",\n",
        "          \"type\": \"uniswap-v3-SetFeeProtocol\",\n",
        "          \"params_schema\": [],\n",
        "          \"risk_type\": \"Economic\",\n",
        "          \"position_type_addresses\": [],\n",
        "          \"position_type_names\": [\"uni-v3-*-pool\"],\n",
        "          \"position_type_ids\": []\n",
        "        }, {\n",
        "          \"name\": \"Swap\",\n",
        "          \"description\": \"Swap for this pool\",\n",
        "          \"type\": \"uniswap-v3-Swap\",\n",
        "          \"params_schema\": [],\n",
        "          \"risk_type\": \"Economic\",\n",
        "          \"position_type_addresses\": [],\n",
        "          \"position_type_names\": [\"uni-v3-*-pool\"],\n",
        "          \"position_type_ids\": []\n",
        "        }, {\n",
        "          \"name\": \"Engagement\",\n",
        "          \"description\": \"Number of transactions with this pool\",\n",
        "          \"type\": \"uniswap-v3-Engagement\",\n",
        "          \"params_schema\": [],\n",
        "          \"risk_type\": \"Economic\",\n",
        "          \"position_type_addresses\": [],\n",
        "          \"position_type_names\": [\"uni-v3-*-pool\"],\n",
        "          \"position_type_ids\": []\n",
        "        }\n",
        "    ]\n",
        "  }"
      ]
    },
    {
      "cell_type": "markdown",
      "source": [
        "Extract the list of dictionaries from the JSON data"
      ],
      "metadata": {
        "id": "3qP3TYwZNUaa"
      }
    },
    {
      "cell_type": "code",
      "source": [
        "decision_types = json_data[\"decision_types\"]"
      ],
      "metadata": {
        "id": "-XMhxPXeNR1t"
      },
      "execution_count": 10,
      "outputs": []
    },
    {
      "cell_type": "markdown",
      "source": [
        "Convert JSON data to DataFrame"
      ],
      "metadata": {
        "id": "EvO59efFLXun"
      }
    },
    {
      "cell_type": "code",
      "source": [
        "df = pd.DataFrame(decision_types)"
      ],
      "metadata": {
        "id": "r5qd04M0LCP-"
      },
      "execution_count": 11,
      "outputs": []
    },
    {
      "cell_type": "code",
      "source": [
        "df.head()"
      ],
      "metadata": {
        "colab": {
          "base_uri": "https://localhost:8080/",
          "height": 305
        },
        "id": "-PvKPUqTLeC-",
        "outputId": "1f56d81b-d0bb-4378-eb08-565ed3a38752"
      },
      "execution_count": 12,
      "outputs": [
        {
          "output_type": "execute_result",
          "data": {
            "text/plain": [
              "                    name                          description  \\\n",
              "0              liquidity              liquidity for this pool   \n",
              "1  feeGrowthOutside0X128  feeGrowthOutside0X128 for this pool   \n",
              "2  feeGrowthOutside1X128  feeGrowthOutside1X128 for this pool   \n",
              "3                   Burn                   Burn for this pool   \n",
              "4                Collect                Collect for this pool   \n",
              "\n",
              "                               type params_schema risk_type  \\\n",
              "0              uniswap-v3-liquidity            []  Economic   \n",
              "1  uniswap-v3-feeGrowthOutside0X128            []  Economic   \n",
              "2  uniswap-v3-feeGrowthOutside1X128            []  Economic   \n",
              "3                   uniswap-v3-Burn            []  Economic   \n",
              "4                uniswap-v3-Collect            []  Economic   \n",
              "\n",
              "  position_type_addresses position_type_names position_type_ids  \n",
              "0                      []     [uni-v3-*-pool]                []  \n",
              "1                      []     [uni-v3-*-pool]                []  \n",
              "2                      []     [uni-v3-*-pool]                []  \n",
              "3                      []     [uni-v3-*-pool]                []  \n",
              "4                      []     [uni-v3-*-pool]                []  "
            ],
            "text/html": [
              "\n",
              "  <div id=\"df-f5327eee-e8e1-4e5c-9e08-20b1c1c07547\">\n",
              "    <div class=\"colab-df-container\">\n",
              "      <div>\n",
              "<style scoped>\n",
              "    .dataframe tbody tr th:only-of-type {\n",
              "        vertical-align: middle;\n",
              "    }\n",
              "\n",
              "    .dataframe tbody tr th {\n",
              "        vertical-align: top;\n",
              "    }\n",
              "\n",
              "    .dataframe thead th {\n",
              "        text-align: right;\n",
              "    }\n",
              "</style>\n",
              "<table border=\"1\" class=\"dataframe\">\n",
              "  <thead>\n",
              "    <tr style=\"text-align: right;\">\n",
              "      <th></th>\n",
              "      <th>name</th>\n",
              "      <th>description</th>\n",
              "      <th>type</th>\n",
              "      <th>params_schema</th>\n",
              "      <th>risk_type</th>\n",
              "      <th>position_type_addresses</th>\n",
              "      <th>position_type_names</th>\n",
              "      <th>position_type_ids</th>\n",
              "    </tr>\n",
              "  </thead>\n",
              "  <tbody>\n",
              "    <tr>\n",
              "      <th>0</th>\n",
              "      <td>liquidity</td>\n",
              "      <td>liquidity for this pool</td>\n",
              "      <td>uniswap-v3-liquidity</td>\n",
              "      <td>[]</td>\n",
              "      <td>Economic</td>\n",
              "      <td>[]</td>\n",
              "      <td>[uni-v3-*-pool]</td>\n",
              "      <td>[]</td>\n",
              "    </tr>\n",
              "    <tr>\n",
              "      <th>1</th>\n",
              "      <td>feeGrowthOutside0X128</td>\n",
              "      <td>feeGrowthOutside0X128 for this pool</td>\n",
              "      <td>uniswap-v3-feeGrowthOutside0X128</td>\n",
              "      <td>[]</td>\n",
              "      <td>Economic</td>\n",
              "      <td>[]</td>\n",
              "      <td>[uni-v3-*-pool]</td>\n",
              "      <td>[]</td>\n",
              "    </tr>\n",
              "    <tr>\n",
              "      <th>2</th>\n",
              "      <td>feeGrowthOutside1X128</td>\n",
              "      <td>feeGrowthOutside1X128 for this pool</td>\n",
              "      <td>uniswap-v3-feeGrowthOutside1X128</td>\n",
              "      <td>[]</td>\n",
              "      <td>Economic</td>\n",
              "      <td>[]</td>\n",
              "      <td>[uni-v3-*-pool]</td>\n",
              "      <td>[]</td>\n",
              "    </tr>\n",
              "    <tr>\n",
              "      <th>3</th>\n",
              "      <td>Burn</td>\n",
              "      <td>Burn for this pool</td>\n",
              "      <td>uniswap-v3-Burn</td>\n",
              "      <td>[]</td>\n",
              "      <td>Economic</td>\n",
              "      <td>[]</td>\n",
              "      <td>[uni-v3-*-pool]</td>\n",
              "      <td>[]</td>\n",
              "    </tr>\n",
              "    <tr>\n",
              "      <th>4</th>\n",
              "      <td>Collect</td>\n",
              "      <td>Collect for this pool</td>\n",
              "      <td>uniswap-v3-Collect</td>\n",
              "      <td>[]</td>\n",
              "      <td>Economic</td>\n",
              "      <td>[]</td>\n",
              "      <td>[uni-v3-*-pool]</td>\n",
              "      <td>[]</td>\n",
              "    </tr>\n",
              "  </tbody>\n",
              "</table>\n",
              "</div>\n",
              "      <button class=\"colab-df-convert\" onclick=\"convertToInteractive('df-f5327eee-e8e1-4e5c-9e08-20b1c1c07547')\"\n",
              "              title=\"Convert this dataframe to an interactive table.\"\n",
              "              style=\"display:none;\">\n",
              "        \n",
              "  <svg xmlns=\"http://www.w3.org/2000/svg\" height=\"24px\"viewBox=\"0 0 24 24\"\n",
              "       width=\"24px\">\n",
              "    <path d=\"M0 0h24v24H0V0z\" fill=\"none\"/>\n",
              "    <path d=\"M18.56 5.44l.94 2.06.94-2.06 2.06-.94-2.06-.94-.94-2.06-.94 2.06-2.06.94zm-11 1L8.5 8.5l.94-2.06 2.06-.94-2.06-.94L8.5 2.5l-.94 2.06-2.06.94zm10 10l.94 2.06.94-2.06 2.06-.94-2.06-.94-.94-2.06-.94 2.06-2.06.94z\"/><path d=\"M17.41 7.96l-1.37-1.37c-.4-.4-.92-.59-1.43-.59-.52 0-1.04.2-1.43.59L10.3 9.45l-7.72 7.72c-.78.78-.78 2.05 0 2.83L4 21.41c.39.39.9.59 1.41.59.51 0 1.02-.2 1.41-.59l7.78-7.78 2.81-2.81c.8-.78.8-2.07 0-2.86zM5.41 20L4 18.59l7.72-7.72 1.47 1.35L5.41 20z\"/>\n",
              "  </svg>\n",
              "      </button>\n",
              "      \n",
              "  <style>\n",
              "    .colab-df-container {\n",
              "      display:flex;\n",
              "      flex-wrap:wrap;\n",
              "      gap: 12px;\n",
              "    }\n",
              "\n",
              "    .colab-df-convert {\n",
              "      background-color: #E8F0FE;\n",
              "      border: none;\n",
              "      border-radius: 50%;\n",
              "      cursor: pointer;\n",
              "      display: none;\n",
              "      fill: #1967D2;\n",
              "      height: 32px;\n",
              "      padding: 0 0 0 0;\n",
              "      width: 32px;\n",
              "    }\n",
              "\n",
              "    .colab-df-convert:hover {\n",
              "      background-color: #E2EBFA;\n",
              "      box-shadow: 0px 1px 2px rgba(60, 64, 67, 0.3), 0px 1px 3px 1px rgba(60, 64, 67, 0.15);\n",
              "      fill: #174EA6;\n",
              "    }\n",
              "\n",
              "    [theme=dark] .colab-df-convert {\n",
              "      background-color: #3B4455;\n",
              "      fill: #D2E3FC;\n",
              "    }\n",
              "\n",
              "    [theme=dark] .colab-df-convert:hover {\n",
              "      background-color: #434B5C;\n",
              "      box-shadow: 0px 1px 3px 1px rgba(0, 0, 0, 0.15);\n",
              "      filter: drop-shadow(0px 1px 2px rgba(0, 0, 0, 0.3));\n",
              "      fill: #FFFFFF;\n",
              "    }\n",
              "  </style>\n",
              "\n",
              "      <script>\n",
              "        const buttonEl =\n",
              "          document.querySelector('#df-f5327eee-e8e1-4e5c-9e08-20b1c1c07547 button.colab-df-convert');\n",
              "        buttonEl.style.display =\n",
              "          google.colab.kernel.accessAllowed ? 'block' : 'none';\n",
              "\n",
              "        async function convertToInteractive(key) {\n",
              "          const element = document.querySelector('#df-f5327eee-e8e1-4e5c-9e08-20b1c1c07547');\n",
              "          const dataTable =\n",
              "            await google.colab.kernel.invokeFunction('convertToInteractive',\n",
              "                                                     [key], {});\n",
              "          if (!dataTable) return;\n",
              "\n",
              "          const docLinkHtml = 'Like what you see? Visit the ' +\n",
              "            '<a target=\"_blank\" href=https://colab.research.google.com/notebooks/data_table.ipynb>data table notebook</a>'\n",
              "            + ' to learn more about interactive tables.';\n",
              "          element.innerHTML = '';\n",
              "          dataTable['output_type'] = 'display_data';\n",
              "          await google.colab.output.renderOutput(dataTable, element);\n",
              "          const docLink = document.createElement('div');\n",
              "          docLink.innerHTML = docLinkHtml;\n",
              "          element.appendChild(docLink);\n",
              "        }\n",
              "      </script>\n",
              "    </div>\n",
              "  </div>\n",
              "  "
            ]
          },
          "metadata": {},
          "execution_count": 12
        }
      ]
    },
    {
      "cell_type": "markdown",
      "source": [
        "Save DataFrame as CSV file then save to local file system."
      ],
      "metadata": {
        "id": "0S1D1fd6LuPj"
      }
    },
    {
      "cell_type": "code",
      "source": [
        "df.to_csv(\"data.csv\", index=False)\n",
        "files.download('data.csv')"
      ],
      "metadata": {
        "colab": {
          "base_uri": "https://localhost:8080/",
          "height": 17
        },
        "id": "sgwLPzYvLZzM",
        "outputId": "3ccbd727-9b9c-4453-8e49-badd83ab911b"
      },
      "execution_count": 13,
      "outputs": [
        {
          "output_type": "display_data",
          "data": {
            "text/plain": [
              "<IPython.core.display.Javascript object>"
            ],
            "application/javascript": [
              "\n",
              "    async function download(id, filename, size) {\n",
              "      if (!google.colab.kernel.accessAllowed) {\n",
              "        return;\n",
              "      }\n",
              "      const div = document.createElement('div');\n",
              "      const label = document.createElement('label');\n",
              "      label.textContent = `Downloading \"${filename}\": `;\n",
              "      div.appendChild(label);\n",
              "      const progress = document.createElement('progress');\n",
              "      progress.max = size;\n",
              "      div.appendChild(progress);\n",
              "      document.body.appendChild(div);\n",
              "\n",
              "      const buffers = [];\n",
              "      let downloaded = 0;\n",
              "\n",
              "      const channel = await google.colab.kernel.comms.open(id);\n",
              "      // Send a message to notify the kernel that we're ready.\n",
              "      channel.send({})\n",
              "\n",
              "      for await (const message of channel.messages) {\n",
              "        // Send a message to notify the kernel that we're ready.\n",
              "        channel.send({})\n",
              "        if (message.buffers) {\n",
              "          for (const buffer of message.buffers) {\n",
              "            buffers.push(buffer);\n",
              "            downloaded += buffer.byteLength;\n",
              "            progress.value = downloaded;\n",
              "          }\n",
              "        }\n",
              "      }\n",
              "      const blob = new Blob(buffers, {type: 'application/binary'});\n",
              "      const a = document.createElement('a');\n",
              "      a.href = window.URL.createObjectURL(blob);\n",
              "      a.download = filename;\n",
              "      div.appendChild(a);\n",
              "      a.click();\n",
              "      div.remove();\n",
              "    }\n",
              "  "
            ]
          },
          "metadata": {}
        },
        {
          "output_type": "display_data",
          "data": {
            "text/plain": [
              "<IPython.core.display.Javascript object>"
            ],
            "application/javascript": [
              "download(\"download_bd37af61-66d0-452c-8875-21ee1ac8fd09\", \"data.csv\", 1427)"
            ]
          },
          "metadata": {}
        }
      ]
    }
  ]
}