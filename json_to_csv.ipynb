{
  "nbformat": 4,
  "nbformat_minor": 0,
  "metadata": {
    "colab": {
      "provenance": [],
      "authorship_tag": "ABX9TyP+Nt7TTAfFWoOJxpNtdQJv",
      "include_colab_link": true
    },
    "kernelspec": {
      "name": "python3",
      "display_name": "Python 3"
    },
    "language_info": {
      "name": "python"
    }
  },
  "cells": [
    {
      "cell_type": "markdown",
      "metadata": {
        "id": "view-in-github",
        "colab_type": "text"
      },
      "source": [
        "<a href=\"https://colab.research.google.com/github/thor4/scripts/blob/master/json_to_csv.ipynb\" target=\"_parent\"><img src=\"https://colab.research.google.com/assets/colab-badge.svg\" alt=\"Open In Colab\"/></a>"
      ]
    },
    {
      "cell_type": "markdown",
      "source": [
        "# JSON to CSV Conversion Script"
      ],
      "metadata": {
        "id": "FUp5J4meLEJL"
      }
    },
    {
      "cell_type": "code",
      "source": [
        "import pandas as pd\n",
        "from google.colab import files"
      ],
      "metadata": {
        "id": "mJbaLpCBK_oz"
      },
      "execution_count": 15,
      "outputs": []
    },
    {
      "cell_type": "markdown",
      "source": [
        "Load the JSON"
      ],
      "metadata": {
        "id": "xf27uO8dLIit"
      }
    },
    {
      "cell_type": "code",
      "execution_count": 31,
      "metadata": {
        "id": "Li79at7oJ_-w"
      },
      "outputs": [],
      "source": [
        "json_data = {\n",
        "    \"decision_types\": [\n",
        "      # JSON data here\n",
        "    ]\n",
        "  }"
      ]
    },
    {
      "cell_type": "markdown",
      "source": [
        "Extract the list of dictionaries from the JSON data"
      ],
      "metadata": {
        "id": "3qP3TYwZNUaa"
      }
    },
    {
      "cell_type": "code",
      "source": [
        "decision_types = json_data[\"decision_types\"]"
      ],
      "metadata": {
        "id": "-XMhxPXeNR1t"
      },
      "execution_count": 32,
      "outputs": []
    },
    {
      "cell_type": "markdown",
      "source": [
        "Convert JSON data to DataFrame"
      ],
      "metadata": {
        "id": "EvO59efFLXun"
      }
    },
    {
      "cell_type": "code",
      "source": [
        "df = pd.DataFrame(decision_types)"
      ],
      "metadata": {
        "id": "r5qd04M0LCP-"
      },
      "execution_count": 33,
      "outputs": []
    },
    {
      "cell_type": "markdown",
      "source": [
        "Remove square brackets from the entries"
      ],
      "metadata": {
        "id": "7Zi2wvUUeYF_"
      }
    },
    {
      "cell_type": "code",
      "source": [
        "for col in df.columns:\n",
        "    df[col] = df[col].apply(lambda x: x[0] if isinstance(x, list) and len(x) > 0 else x)"
      ],
      "metadata": {
        "id": "W2o3VpE6eW25"
      },
      "execution_count": 35,
      "outputs": []
    },
    {
      "cell_type": "markdown",
      "source": [
        "Save DataFrame as CSV file then save to local file system."
      ],
      "metadata": {
        "id": "0S1D1fd6LuPj"
      }
    },
    {
      "cell_type": "code",
      "source": [
        "df.to_csv(\"data.csv\", index=False)\n",
        "files.download('data.csv')"
      ],
      "metadata": {
        "colab": {
          "base_uri": "https://localhost:8080/",
          "height": 17
        },
        "id": "sgwLPzYvLZzM",
        "outputId": "df9de3e7-1fb0-41a5-fe8b-dff6755b1b92"
      },
      "execution_count": 37,
      "outputs": [
        {
          "output_type": "display_data",
          "data": {
            "text/plain": [
              "<IPython.core.display.Javascript object>"
            ],
            "application/javascript": [
              "\n",
              "    async function download(id, filename, size) {\n",
              "      if (!google.colab.kernel.accessAllowed) {\n",
              "        return;\n",
              "      }\n",
              "      const div = document.createElement('div');\n",
              "      const label = document.createElement('label');\n",
              "      label.textContent = `Downloading \"${filename}\": `;\n",
              "      div.appendChild(label);\n",
              "      const progress = document.createElement('progress');\n",
              "      progress.max = size;\n",
              "      div.appendChild(progress);\n",
              "      document.body.appendChild(div);\n",
              "\n",
              "      const buffers = [];\n",
              "      let downloaded = 0;\n",
              "\n",
              "      const channel = await google.colab.kernel.comms.open(id);\n",
              "      // Send a message to notify the kernel that we're ready.\n",
              "      channel.send({})\n",
              "\n",
              "      for await (const message of channel.messages) {\n",
              "        // Send a message to notify the kernel that we're ready.\n",
              "        channel.send({})\n",
              "        if (message.buffers) {\n",
              "          for (const buffer of message.buffers) {\n",
              "            buffers.push(buffer);\n",
              "            downloaded += buffer.byteLength;\n",
              "            progress.value = downloaded;\n",
              "          }\n",
              "        }\n",
              "      }\n",
              "      const blob = new Blob(buffers, {type: 'application/binary'});\n",
              "      const a = document.createElement('a');\n",
              "      a.href = window.URL.createObjectURL(blob);\n",
              "      a.download = filename;\n",
              "      div.appendChild(a);\n",
              "      a.click();\n",
              "      div.remove();\n",
              "    }\n",
              "  "
            ]
          },
          "metadata": {}
        },
        {
          "output_type": "display_data",
          "data": {
            "text/plain": [
              "<IPython.core.display.Javascript object>"
            ],
            "application/javascript": [
              "download(\"download_997ea656-2714-4dd1-ae6b-3dd5cb063a1b\", \"data.csv\", 1250)"
            ]
          },
          "metadata": {}
        }
      ]
    }
  ]
}