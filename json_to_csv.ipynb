{
  "nbformat": 4,
  "nbformat_minor": 0,
  "metadata": {
    "colab": {
      "provenance": [],
      "authorship_tag": "ABX9TyPOAisFvPS/300ym8Wre/al",
      "include_colab_link": true
    },
    "kernelspec": {
      "name": "python3",
      "display_name": "Python 3"
    },
    "language_info": {
      "name": "python"
    }
  },
  "cells": [
    {
      "cell_type": "markdown",
      "metadata": {
        "id": "view-in-github",
        "colab_type": "text"
      },
      "source": [
        "<a href=\"https://colab.research.google.com/github/thor4/scripts/blob/master/json_to_csv.ipynb\" target=\"_parent\"><img src=\"https://colab.research.google.com/assets/colab-badge.svg\" alt=\"Open In Colab\"/></a>"
      ]
    },
    {
      "cell_type": "markdown",
      "source": [
        "# JSON to CSV Conversion Script"
      ],
      "metadata": {
        "id": "FUp5J4meLEJL"
      }
    },
    {
      "cell_type": "code",
      "source": [
        "import pandas as pd\n",
        "from google.colab import files"
      ],
      "metadata": {
        "id": "mJbaLpCBK_oz"
      },
      "execution_count": 15,
      "outputs": []
    },
    {
      "cell_type": "markdown",
      "source": [
        "Load the JSON"
      ],
      "metadata": {
        "id": "xf27uO8dLIit"
      }
    },
    {
      "cell_type": "code",
      "execution_count": 31,
      "metadata": {
        "id": "Li79at7oJ_-w"
      },
      "outputs": [],
      "source": [
        "json_data = {\n",
        "    \"decision_types\": [\n",
        "      # JSON data here\n",
        "    ]\n",
        "  }"
      ]
    },
    {
      "cell_type": "markdown",
      "source": [
        "Extract the list of dictionaries from the JSON data"
      ],
      "metadata": {
        "id": "3qP3TYwZNUaa"
      }
    },
    {
      "cell_type": "code",
      "source": [
        "decision_types = json_data[\"decision_types\"]"
      ],
      "metadata": {
        "id": "-XMhxPXeNR1t"
      },
      "execution_count": 32,
      "outputs": []
    },
    {
      "cell_type": "markdown",
      "source": [
        "Convert JSON data to DataFrame"
      ],
      "metadata": {
        "id": "EvO59efFLXun"
      }
    },
    {
      "cell_type": "code",
      "source": [
        "df = pd.DataFrame(decision_types)"
      ],
      "metadata": {
        "id": "r5qd04M0LCP-"
      },
      "execution_count": 33,
      "outputs": []
    },
    {
      "cell_type": "code",
      "source": [
        "df.head()"
      ],
      "metadata": {
        "colab": {
          "base_uri": "https://localhost:8080/",
          "height": 531
        },
        "id": "-PvKPUqTLeC-",
        "outputId": "86d15482-8695-4c61-d06d-960ce41848c1"
      },
      "execution_count": 34,
      "outputs": [
        {
          "output_type": "execute_result",
          "data": {
            "text/plain": [
              "                        name  \\\n",
              "0         Reentrancy Tracker   \n",
              "1          Phishing Activity   \n",
              "2  Major Flash Loan Activity   \n",
              "3              Price Anomaly   \n",
              "4        Sanctioned Activity   \n",
              "\n",
              "                                         description  \\\n",
              "0   Detects if there is an anomalous reentrancy call   \n",
              "1  Detects suspicious approvals and transfers ass...   \n",
              "2  Detects if a major profit was made using a fla...   \n",
              "3  Detects price anomalies and deviation across m...   \n",
              "4    Activity from sanctioned addresses and location   \n",
              "\n",
              "                                type  risk_type position_type_addresses  \\\n",
              "0                 reentrancy-tracker  Technical                      []   \n",
              "1          phishing-activity-tracker  Technical                      []   \n",
              "2  flashloan-attack-with-high-profit   Economic                      []   \n",
              "3                smart-price-changes   Economic                      []   \n",
              "4        sanctioned-account-activity  Technical                      []   \n",
              "\n",
              "  position_type_names position_type_ids params_schema  \\\n",
              "0                 [*]                []            []   \n",
              "1                 [*]                []            []   \n",
              "2                 [*]                []            []   \n",
              "3                 [*]                []            []   \n",
              "4                 [*]                []            []   \n",
              "\n",
              "                               metric_type  \\\n",
              "0                         Reentrancy count   \n",
              "1                                      NaN   \n",
              "2                                      NaN   \n",
              "3  Price deviation from the expected price   \n",
              "4                                      NaN   \n",
              "\n",
              "                               potential_impact  \n",
              "0                     Potential Protocol Attack  \n",
              "1                         Potential Asset Theft  \n",
              "2                     Potential Economic Attack  \n",
              "3  Potential Liquidations on Dependent Protocol  \n",
              "4                           Sanctioned Activity  "
            ],
            "text/html": [
              "\n",
              "  <div id=\"df-32c62784-441b-429d-90d0-2dc24f17b0fe\">\n",
              "    <div class=\"colab-df-container\">\n",
              "      <div>\n",
              "<style scoped>\n",
              "    .dataframe tbody tr th:only-of-type {\n",
              "        vertical-align: middle;\n",
              "    }\n",
              "\n",
              "    .dataframe tbody tr th {\n",
              "        vertical-align: top;\n",
              "    }\n",
              "\n",
              "    .dataframe thead th {\n",
              "        text-align: right;\n",
              "    }\n",
              "</style>\n",
              "<table border=\"1\" class=\"dataframe\">\n",
              "  <thead>\n",
              "    <tr style=\"text-align: right;\">\n",
              "      <th></th>\n",
              "      <th>name</th>\n",
              "      <th>description</th>\n",
              "      <th>type</th>\n",
              "      <th>risk_type</th>\n",
              "      <th>position_type_addresses</th>\n",
              "      <th>position_type_names</th>\n",
              "      <th>position_type_ids</th>\n",
              "      <th>params_schema</th>\n",
              "      <th>metric_type</th>\n",
              "      <th>potential_impact</th>\n",
              "    </tr>\n",
              "  </thead>\n",
              "  <tbody>\n",
              "    <tr>\n",
              "      <th>0</th>\n",
              "      <td>Reentrancy Tracker</td>\n",
              "      <td>Detects if there is an anomalous reentrancy call</td>\n",
              "      <td>reentrancy-tracker</td>\n",
              "      <td>Technical</td>\n",
              "      <td>[]</td>\n",
              "      <td>[*]</td>\n",
              "      <td>[]</td>\n",
              "      <td>[]</td>\n",
              "      <td>Reentrancy count</td>\n",
              "      <td>Potential Protocol Attack</td>\n",
              "    </tr>\n",
              "    <tr>\n",
              "      <th>1</th>\n",
              "      <td>Phishing Activity</td>\n",
              "      <td>Detects suspicious approvals and transfers ass...</td>\n",
              "      <td>phishing-activity-tracker</td>\n",
              "      <td>Technical</td>\n",
              "      <td>[]</td>\n",
              "      <td>[*]</td>\n",
              "      <td>[]</td>\n",
              "      <td>[]</td>\n",
              "      <td>NaN</td>\n",
              "      <td>Potential Asset Theft</td>\n",
              "    </tr>\n",
              "    <tr>\n",
              "      <th>2</th>\n",
              "      <td>Major Flash Loan Activity</td>\n",
              "      <td>Detects if a major profit was made using a fla...</td>\n",
              "      <td>flashloan-attack-with-high-profit</td>\n",
              "      <td>Economic</td>\n",
              "      <td>[]</td>\n",
              "      <td>[*]</td>\n",
              "      <td>[]</td>\n",
              "      <td>[]</td>\n",
              "      <td>NaN</td>\n",
              "      <td>Potential Economic Attack</td>\n",
              "    </tr>\n",
              "    <tr>\n",
              "      <th>3</th>\n",
              "      <td>Price Anomaly</td>\n",
              "      <td>Detects price anomalies and deviation across m...</td>\n",
              "      <td>smart-price-changes</td>\n",
              "      <td>Economic</td>\n",
              "      <td>[]</td>\n",
              "      <td>[*]</td>\n",
              "      <td>[]</td>\n",
              "      <td>[]</td>\n",
              "      <td>Price deviation from the expected price</td>\n",
              "      <td>Potential Liquidations on Dependent Protocol</td>\n",
              "    </tr>\n",
              "    <tr>\n",
              "      <th>4</th>\n",
              "      <td>Sanctioned Activity</td>\n",
              "      <td>Activity from sanctioned addresses and location</td>\n",
              "      <td>sanctioned-account-activity</td>\n",
              "      <td>Technical</td>\n",
              "      <td>[]</td>\n",
              "      <td>[*]</td>\n",
              "      <td>[]</td>\n",
              "      <td>[]</td>\n",
              "      <td>NaN</td>\n",
              "      <td>Sanctioned Activity</td>\n",
              "    </tr>\n",
              "  </tbody>\n",
              "</table>\n",
              "</div>\n",
              "      <button class=\"colab-df-convert\" onclick=\"convertToInteractive('df-32c62784-441b-429d-90d0-2dc24f17b0fe')\"\n",
              "              title=\"Convert this dataframe to an interactive table.\"\n",
              "              style=\"display:none;\">\n",
              "        \n",
              "  <svg xmlns=\"http://www.w3.org/2000/svg\" height=\"24px\"viewBox=\"0 0 24 24\"\n",
              "       width=\"24px\">\n",
              "    <path d=\"M0 0h24v24H0V0z\" fill=\"none\"/>\n",
              "    <path d=\"M18.56 5.44l.94 2.06.94-2.06 2.06-.94-2.06-.94-.94-2.06-.94 2.06-2.06.94zm-11 1L8.5 8.5l.94-2.06 2.06-.94-2.06-.94L8.5 2.5l-.94 2.06-2.06.94zm10 10l.94 2.06.94-2.06 2.06-.94-2.06-.94-.94-2.06-.94 2.06-2.06.94z\"/><path d=\"M17.41 7.96l-1.37-1.37c-.4-.4-.92-.59-1.43-.59-.52 0-1.04.2-1.43.59L10.3 9.45l-7.72 7.72c-.78.78-.78 2.05 0 2.83L4 21.41c.39.39.9.59 1.41.59.51 0 1.02-.2 1.41-.59l7.78-7.78 2.81-2.81c.8-.78.8-2.07 0-2.86zM5.41 20L4 18.59l7.72-7.72 1.47 1.35L5.41 20z\"/>\n",
              "  </svg>\n",
              "      </button>\n",
              "      \n",
              "  <style>\n",
              "    .colab-df-container {\n",
              "      display:flex;\n",
              "      flex-wrap:wrap;\n",
              "      gap: 12px;\n",
              "    }\n",
              "\n",
              "    .colab-df-convert {\n",
              "      background-color: #E8F0FE;\n",
              "      border: none;\n",
              "      border-radius: 50%;\n",
              "      cursor: pointer;\n",
              "      display: none;\n",
              "      fill: #1967D2;\n",
              "      height: 32px;\n",
              "      padding: 0 0 0 0;\n",
              "      width: 32px;\n",
              "    }\n",
              "\n",
              "    .colab-df-convert:hover {\n",
              "      background-color: #E2EBFA;\n",
              "      box-shadow: 0px 1px 2px rgba(60, 64, 67, 0.3), 0px 1px 3px 1px rgba(60, 64, 67, 0.15);\n",
              "      fill: #174EA6;\n",
              "    }\n",
              "\n",
              "    [theme=dark] .colab-df-convert {\n",
              "      background-color: #3B4455;\n",
              "      fill: #D2E3FC;\n",
              "    }\n",
              "\n",
              "    [theme=dark] .colab-df-convert:hover {\n",
              "      background-color: #434B5C;\n",
              "      box-shadow: 0px 1px 3px 1px rgba(0, 0, 0, 0.15);\n",
              "      filter: drop-shadow(0px 1px 2px rgba(0, 0, 0, 0.3));\n",
              "      fill: #FFFFFF;\n",
              "    }\n",
              "  </style>\n",
              "\n",
              "      <script>\n",
              "        const buttonEl =\n",
              "          document.querySelector('#df-32c62784-441b-429d-90d0-2dc24f17b0fe button.colab-df-convert');\n",
              "        buttonEl.style.display =\n",
              "          google.colab.kernel.accessAllowed ? 'block' : 'none';\n",
              "\n",
              "        async function convertToInteractive(key) {\n",
              "          const element = document.querySelector('#df-32c62784-441b-429d-90d0-2dc24f17b0fe');\n",
              "          const dataTable =\n",
              "            await google.colab.kernel.invokeFunction('convertToInteractive',\n",
              "                                                     [key], {});\n",
              "          if (!dataTable) return;\n",
              "\n",
              "          const docLinkHtml = 'Like what you see? Visit the ' +\n",
              "            '<a target=\"_blank\" href=https://colab.research.google.com/notebooks/data_table.ipynb>data table notebook</a>'\n",
              "            + ' to learn more about interactive tables.';\n",
              "          element.innerHTML = '';\n",
              "          dataTable['output_type'] = 'display_data';\n",
              "          await google.colab.output.renderOutput(dataTable, element);\n",
              "          const docLink = document.createElement('div');\n",
              "          docLink.innerHTML = docLinkHtml;\n",
              "          element.appendChild(docLink);\n",
              "        }\n",
              "      </script>\n",
              "    </div>\n",
              "  </div>\n",
              "  "
            ]
          },
          "metadata": {},
          "execution_count": 34
        }
      ]
    },
    {
      "cell_type": "markdown",
      "source": [
        "Remove square brackets from the entries"
      ],
      "metadata": {
        "id": "7Zi2wvUUeYF_"
      }
    },
    {
      "cell_type": "code",
      "source": [
        "for col in df.columns:\n",
        "    df[col] = df[col].apply(lambda x: x[0] if isinstance(x, list) and len(x) > 0 else x)"
      ],
      "metadata": {
        "id": "W2o3VpE6eW25"
      },
      "execution_count": 35,
      "outputs": []
    },
    {
      "cell_type": "code",
      "source": [
        "df.head()"
      ],
      "metadata": {
        "colab": {
          "base_uri": "https://localhost:8080/",
          "height": 531
        },
        "id": "JxAUOxYNea0A",
        "outputId": "602faa0c-a6d9-4920-88a3-a5f65308e926"
      },
      "execution_count": 36,
      "outputs": [
        {
          "output_type": "execute_result",
          "data": {
            "text/plain": [
              "                        name  \\\n",
              "0         Reentrancy Tracker   \n",
              "1          Phishing Activity   \n",
              "2  Major Flash Loan Activity   \n",
              "3              Price Anomaly   \n",
              "4        Sanctioned Activity   \n",
              "\n",
              "                                         description  \\\n",
              "0   Detects if there is an anomalous reentrancy call   \n",
              "1  Detects suspicious approvals and transfers ass...   \n",
              "2  Detects if a major profit was made using a fla...   \n",
              "3  Detects price anomalies and deviation across m...   \n",
              "4    Activity from sanctioned addresses and location   \n",
              "\n",
              "                                type  risk_type position_type_addresses  \\\n",
              "0                 reentrancy-tracker  Technical                      []   \n",
              "1          phishing-activity-tracker  Technical                      []   \n",
              "2  flashloan-attack-with-high-profit   Economic                      []   \n",
              "3                smart-price-changes   Economic                      []   \n",
              "4        sanctioned-account-activity  Technical                      []   \n",
              "\n",
              "  position_type_names position_type_ids params_schema  \\\n",
              "0                   *                []            []   \n",
              "1                   *                []            []   \n",
              "2                   *                []            []   \n",
              "3                   *                []            []   \n",
              "4                   *                []            []   \n",
              "\n",
              "                               metric_type  \\\n",
              "0                         Reentrancy count   \n",
              "1                                      NaN   \n",
              "2                                      NaN   \n",
              "3  Price deviation from the expected price   \n",
              "4                                      NaN   \n",
              "\n",
              "                               potential_impact  \n",
              "0                     Potential Protocol Attack  \n",
              "1                         Potential Asset Theft  \n",
              "2                     Potential Economic Attack  \n",
              "3  Potential Liquidations on Dependent Protocol  \n",
              "4                           Sanctioned Activity  "
            ],
            "text/html": [
              "\n",
              "  <div id=\"df-d966acfa-510b-46c3-8211-f27d4a77ab17\">\n",
              "    <div class=\"colab-df-container\">\n",
              "      <div>\n",
              "<style scoped>\n",
              "    .dataframe tbody tr th:only-of-type {\n",
              "        vertical-align: middle;\n",
              "    }\n",
              "\n",
              "    .dataframe tbody tr th {\n",
              "        vertical-align: top;\n",
              "    }\n",
              "\n",
              "    .dataframe thead th {\n",
              "        text-align: right;\n",
              "    }\n",
              "</style>\n",
              "<table border=\"1\" class=\"dataframe\">\n",
              "  <thead>\n",
              "    <tr style=\"text-align: right;\">\n",
              "      <th></th>\n",
              "      <th>name</th>\n",
              "      <th>description</th>\n",
              "      <th>type</th>\n",
              "      <th>risk_type</th>\n",
              "      <th>position_type_addresses</th>\n",
              "      <th>position_type_names</th>\n",
              "      <th>position_type_ids</th>\n",
              "      <th>params_schema</th>\n",
              "      <th>metric_type</th>\n",
              "      <th>potential_impact</th>\n",
              "    </tr>\n",
              "  </thead>\n",
              "  <tbody>\n",
              "    <tr>\n",
              "      <th>0</th>\n",
              "      <td>Reentrancy Tracker</td>\n",
              "      <td>Detects if there is an anomalous reentrancy call</td>\n",
              "      <td>reentrancy-tracker</td>\n",
              "      <td>Technical</td>\n",
              "      <td>[]</td>\n",
              "      <td>*</td>\n",
              "      <td>[]</td>\n",
              "      <td>[]</td>\n",
              "      <td>Reentrancy count</td>\n",
              "      <td>Potential Protocol Attack</td>\n",
              "    </tr>\n",
              "    <tr>\n",
              "      <th>1</th>\n",
              "      <td>Phishing Activity</td>\n",
              "      <td>Detects suspicious approvals and transfers ass...</td>\n",
              "      <td>phishing-activity-tracker</td>\n",
              "      <td>Technical</td>\n",
              "      <td>[]</td>\n",
              "      <td>*</td>\n",
              "      <td>[]</td>\n",
              "      <td>[]</td>\n",
              "      <td>NaN</td>\n",
              "      <td>Potential Asset Theft</td>\n",
              "    </tr>\n",
              "    <tr>\n",
              "      <th>2</th>\n",
              "      <td>Major Flash Loan Activity</td>\n",
              "      <td>Detects if a major profit was made using a fla...</td>\n",
              "      <td>flashloan-attack-with-high-profit</td>\n",
              "      <td>Economic</td>\n",
              "      <td>[]</td>\n",
              "      <td>*</td>\n",
              "      <td>[]</td>\n",
              "      <td>[]</td>\n",
              "      <td>NaN</td>\n",
              "      <td>Potential Economic Attack</td>\n",
              "    </tr>\n",
              "    <tr>\n",
              "      <th>3</th>\n",
              "      <td>Price Anomaly</td>\n",
              "      <td>Detects price anomalies and deviation across m...</td>\n",
              "      <td>smart-price-changes</td>\n",
              "      <td>Economic</td>\n",
              "      <td>[]</td>\n",
              "      <td>*</td>\n",
              "      <td>[]</td>\n",
              "      <td>[]</td>\n",
              "      <td>Price deviation from the expected price</td>\n",
              "      <td>Potential Liquidations on Dependent Protocol</td>\n",
              "    </tr>\n",
              "    <tr>\n",
              "      <th>4</th>\n",
              "      <td>Sanctioned Activity</td>\n",
              "      <td>Activity from sanctioned addresses and location</td>\n",
              "      <td>sanctioned-account-activity</td>\n",
              "      <td>Technical</td>\n",
              "      <td>[]</td>\n",
              "      <td>*</td>\n",
              "      <td>[]</td>\n",
              "      <td>[]</td>\n",
              "      <td>NaN</td>\n",
              "      <td>Sanctioned Activity</td>\n",
              "    </tr>\n",
              "  </tbody>\n",
              "</table>\n",
              "</div>\n",
              "      <button class=\"colab-df-convert\" onclick=\"convertToInteractive('df-d966acfa-510b-46c3-8211-f27d4a77ab17')\"\n",
              "              title=\"Convert this dataframe to an interactive table.\"\n",
              "              style=\"display:none;\">\n",
              "        \n",
              "  <svg xmlns=\"http://www.w3.org/2000/svg\" height=\"24px\"viewBox=\"0 0 24 24\"\n",
              "       width=\"24px\">\n",
              "    <path d=\"M0 0h24v24H0V0z\" fill=\"none\"/>\n",
              "    <path d=\"M18.56 5.44l.94 2.06.94-2.06 2.06-.94-2.06-.94-.94-2.06-.94 2.06-2.06.94zm-11 1L8.5 8.5l.94-2.06 2.06-.94-2.06-.94L8.5 2.5l-.94 2.06-2.06.94zm10 10l.94 2.06.94-2.06 2.06-.94-2.06-.94-.94-2.06-.94 2.06-2.06.94z\"/><path d=\"M17.41 7.96l-1.37-1.37c-.4-.4-.92-.59-1.43-.59-.52 0-1.04.2-1.43.59L10.3 9.45l-7.72 7.72c-.78.78-.78 2.05 0 2.83L4 21.41c.39.39.9.59 1.41.59.51 0 1.02-.2 1.41-.59l7.78-7.78 2.81-2.81c.8-.78.8-2.07 0-2.86zM5.41 20L4 18.59l7.72-7.72 1.47 1.35L5.41 20z\"/>\n",
              "  </svg>\n",
              "      </button>\n",
              "      \n",
              "  <style>\n",
              "    .colab-df-container {\n",
              "      display:flex;\n",
              "      flex-wrap:wrap;\n",
              "      gap: 12px;\n",
              "    }\n",
              "\n",
              "    .colab-df-convert {\n",
              "      background-color: #E8F0FE;\n",
              "      border: none;\n",
              "      border-radius: 50%;\n",
              "      cursor: pointer;\n",
              "      display: none;\n",
              "      fill: #1967D2;\n",
              "      height: 32px;\n",
              "      padding: 0 0 0 0;\n",
              "      width: 32px;\n",
              "    }\n",
              "\n",
              "    .colab-df-convert:hover {\n",
              "      background-color: #E2EBFA;\n",
              "      box-shadow: 0px 1px 2px rgba(60, 64, 67, 0.3), 0px 1px 3px 1px rgba(60, 64, 67, 0.15);\n",
              "      fill: #174EA6;\n",
              "    }\n",
              "\n",
              "    [theme=dark] .colab-df-convert {\n",
              "      background-color: #3B4455;\n",
              "      fill: #D2E3FC;\n",
              "    }\n",
              "\n",
              "    [theme=dark] .colab-df-convert:hover {\n",
              "      background-color: #434B5C;\n",
              "      box-shadow: 0px 1px 3px 1px rgba(0, 0, 0, 0.15);\n",
              "      filter: drop-shadow(0px 1px 2px rgba(0, 0, 0, 0.3));\n",
              "      fill: #FFFFFF;\n",
              "    }\n",
              "  </style>\n",
              "\n",
              "      <script>\n",
              "        const buttonEl =\n",
              "          document.querySelector('#df-d966acfa-510b-46c3-8211-f27d4a77ab17 button.colab-df-convert');\n",
              "        buttonEl.style.display =\n",
              "          google.colab.kernel.accessAllowed ? 'block' : 'none';\n",
              "\n",
              "        async function convertToInteractive(key) {\n",
              "          const element = document.querySelector('#df-d966acfa-510b-46c3-8211-f27d4a77ab17');\n",
              "          const dataTable =\n",
              "            await google.colab.kernel.invokeFunction('convertToInteractive',\n",
              "                                                     [key], {});\n",
              "          if (!dataTable) return;\n",
              "\n",
              "          const docLinkHtml = 'Like what you see? Visit the ' +\n",
              "            '<a target=\"_blank\" href=https://colab.research.google.com/notebooks/data_table.ipynb>data table notebook</a>'\n",
              "            + ' to learn more about interactive tables.';\n",
              "          element.innerHTML = '';\n",
              "          dataTable['output_type'] = 'display_data';\n",
              "          await google.colab.output.renderOutput(dataTable, element);\n",
              "          const docLink = document.createElement('div');\n",
              "          docLink.innerHTML = docLinkHtml;\n",
              "          element.appendChild(docLink);\n",
              "        }\n",
              "      </script>\n",
              "    </div>\n",
              "  </div>\n",
              "  "
            ]
          },
          "metadata": {},
          "execution_count": 36
        }
      ]
    },
    {
      "cell_type": "markdown",
      "source": [
        "Save DataFrame as CSV file then save to local file system."
      ],
      "metadata": {
        "id": "0S1D1fd6LuPj"
      }
    },
    {
      "cell_type": "code",
      "source": [
        "df.to_csv(\"data.csv\", index=False)\n",
        "files.download('data.csv')"
      ],
      "metadata": {
        "colab": {
          "base_uri": "https://localhost:8080/",
          "height": 17
        },
        "id": "sgwLPzYvLZzM",
        "outputId": "df9de3e7-1fb0-41a5-fe8b-dff6755b1b92"
      },
      "execution_count": 37,
      "outputs": [
        {
          "output_type": "display_data",
          "data": {
            "text/plain": [
              "<IPython.core.display.Javascript object>"
            ],
            "application/javascript": [
              "\n",
              "    async function download(id, filename, size) {\n",
              "      if (!google.colab.kernel.accessAllowed) {\n",
              "        return;\n",
              "      }\n",
              "      const div = document.createElement('div');\n",
              "      const label = document.createElement('label');\n",
              "      label.textContent = `Downloading \"${filename}\": `;\n",
              "      div.appendChild(label);\n",
              "      const progress = document.createElement('progress');\n",
              "      progress.max = size;\n",
              "      div.appendChild(progress);\n",
              "      document.body.appendChild(div);\n",
              "\n",
              "      const buffers = [];\n",
              "      let downloaded = 0;\n",
              "\n",
              "      const channel = await google.colab.kernel.comms.open(id);\n",
              "      // Send a message to notify the kernel that we're ready.\n",
              "      channel.send({})\n",
              "\n",
              "      for await (const message of channel.messages) {\n",
              "        // Send a message to notify the kernel that we're ready.\n",
              "        channel.send({})\n",
              "        if (message.buffers) {\n",
              "          for (const buffer of message.buffers) {\n",
              "            buffers.push(buffer);\n",
              "            downloaded += buffer.byteLength;\n",
              "            progress.value = downloaded;\n",
              "          }\n",
              "        }\n",
              "      }\n",
              "      const blob = new Blob(buffers, {type: 'application/binary'});\n",
              "      const a = document.createElement('a');\n",
              "      a.href = window.URL.createObjectURL(blob);\n",
              "      a.download = filename;\n",
              "      div.appendChild(a);\n",
              "      a.click();\n",
              "      div.remove();\n",
              "    }\n",
              "  "
            ]
          },
          "metadata": {}
        },
        {
          "output_type": "display_data",
          "data": {
            "text/plain": [
              "<IPython.core.display.Javascript object>"
            ],
            "application/javascript": [
              "download(\"download_997ea656-2714-4dd1-ae6b-3dd5cb063a1b\", \"data.csv\", 1250)"
            ]
          },
          "metadata": {}
        }
      ]
    }
  ]
}